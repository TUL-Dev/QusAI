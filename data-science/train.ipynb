{
 "cells": [
  {
   "cell_type": "code",
   "execution_count": 1,
   "metadata": {},
   "outputs": [],
   "source": [
    "import time\n",
    "from pathlib import Path\n",
    "\n",
    "import numpy as np\n",
    "import pandas as pd\n",
    "from tqdm import tqdm_notebook\n",
    "\n",
    "import matplotlib.pyplot as plt\n",
    "%matplotlib inline"
   ]
  },
  {
   "cell_type": "code",
   "execution_count": 3,
   "metadata": {},
   "outputs": [],
   "source": [
    "DF_DIR = Path(\"/Volumes/CREST Data/ExactData/Downloaded_Pkl\")\n",
    "BATCH_SIZE = 15\n",
    "EPOCHS = 400\n",
    "N_FOLDS = np.array([5,6,7,8,9,10,11,12,13,14,15]) #[1,2,3,4,5,6,7,8,9,10]"
   ]
  },
  {
   "cell_type": "code",
   "execution_count": 4,
   "metadata": {},
   "outputs": [],
   "source": [
    "train_df = pd.read_pickle(DF_DIR / Path('Train_df-PS04_snapshot01.pkl'))\n",
    "test_df = pd.read_pickle(DF_DIR / Path('Test_df-PS04_snapshot01.pkl'))\n",
    "val_df = pd.read_pickle(DF_DIR / Path('Val_df-PS04_snapshot01.pkl'))"
   ]
  },
  {
   "cell_type": "code",
   "execution_count": 25,
   "metadata": {},
   "outputs": [
    {
     "data": {
      "text/html": [
       "<div>\n",
       "<style scoped>\n",
       "    .dataframe tbody tr th:only-of-type {\n",
       "        vertical-align: middle;\n",
       "    }\n",
       "\n",
       "    .dataframe tbody tr th {\n",
       "        vertical-align: top;\n",
       "    }\n",
       "\n",
       "    .dataframe thead th {\n",
       "        text-align: right;\n",
       "    }\n",
       "</style>\n",
       "<table border=\"1\" class=\"dataframe\">\n",
       "  <thead>\n",
       "    <tr style=\"text-align: right;\">\n",
       "      <th></th>\n",
       "      <th>Core</th>\n",
       "      <th>Gain</th>\n",
       "      <th>Hospital</th>\n",
       "      <th>Label</th>\n",
       "      <th>NPS</th>\n",
       "      <th>PS</th>\n",
       "      <th>PSA</th>\n",
       "      <th>Patient</th>\n",
       "      <th>PctCancer</th>\n",
       "      <th>PrimGrade</th>\n",
       "      <th>SecGrade</th>\n",
       "      <th>Name</th>\n",
       "    </tr>\n",
       "  </thead>\n",
       "  <tbody>\n",
       "    <tr>\n",
       "      <th>0</th>\n",
       "      <td>LAL</td>\n",
       "      <td>29.9986103688254</td>\n",
       "      <td>CRCEO</td>\n",
       "      <td>Benign</td>\n",
       "      <td>[[[[-14.86263123 -15.13942091 -15.87525703 -17...</td>\n",
       "      <td>[[[[52.26004301 52.27143733 52.00259633 51.292...</td>\n",
       "      <td>4.11</td>\n",
       "      <td>0133</td>\n",
       "      <td>0</td>\n",
       "      <td>[]</td>\n",
       "      <td>[]</td>\n",
       "      <td>CRCEO_0133</td>\n",
       "    </tr>\n",
       "    <tr>\n",
       "      <th>1</th>\n",
       "      <td>RMM</td>\n",
       "      <td>29.9986103688254</td>\n",
       "      <td>PCC</td>\n",
       "      <td>Benign</td>\n",
       "      <td>[[[[ 4.287157    4.37941997  4.36411186  4.385...</td>\n",
       "      <td>[[[[65.32505693 65.70332014 66.15368739 66.715...</td>\n",
       "      <td>8.6</td>\n",
       "      <td>0218</td>\n",
       "      <td>0</td>\n",
       "      <td>[]</td>\n",
       "      <td>[]</td>\n",
       "      <td>PCC_0218</td>\n",
       "    </tr>\n",
       "    <tr>\n",
       "      <th>2</th>\n",
       "      <td>LAM</td>\n",
       "      <td>39.9986103688254</td>\n",
       "      <td>PCC</td>\n",
       "      <td>Benign</td>\n",
       "      <td>[[[[-2.14134153e+00 -1.76453516e+00 -2.2393942...</td>\n",
       "      <td>[[[[59.55810479 59.70957109 59.46954546 58.942...</td>\n",
       "      <td>5.8</td>\n",
       "      <td>0089</td>\n",
       "      <td>0</td>\n",
       "      <td>[]</td>\n",
       "      <td>[]</td>\n",
       "      <td>PCC_0089</td>\n",
       "    </tr>\n",
       "    <tr>\n",
       "      <th>3</th>\n",
       "      <td>LBL</td>\n",
       "      <td>29.9986103688254</td>\n",
       "      <td>CRCEO</td>\n",
       "      <td>Benign</td>\n",
       "      <td>[[[[ -8.80005274  -9.13136489  -9.39580372  -9...</td>\n",
       "      <td>[[[[46.91796786 46.82674905 46.99327844 47.021...</td>\n",
       "      <td>15.0</td>\n",
       "      <td>0226</td>\n",
       "      <td>0</td>\n",
       "      <td>[]</td>\n",
       "      <td>[]</td>\n",
       "      <td>CRCEO_0226</td>\n",
       "    </tr>\n",
       "    <tr>\n",
       "      <th>4</th>\n",
       "      <td>RAM</td>\n",
       "      <td>40.0100466965317</td>\n",
       "      <td>UVA</td>\n",
       "      <td>GS8</td>\n",
       "      <td>[[[[ 7.8970021   8.34736207  8.16759166  7.951...</td>\n",
       "      <td>[[[[68.75020247 68.95280843 68.982437   69.060...</td>\n",
       "      <td>5.26</td>\n",
       "      <td>0036</td>\n",
       "      <td>60</td>\n",
       "      <td>4</td>\n",
       "      <td>4</td>\n",
       "      <td>UVA_0036</td>\n",
       "    </tr>\n",
       "  </tbody>\n",
       "</table>\n",
       "</div>"
      ],
      "text/plain": [
       "  Core              Gain Hospital   Label  \\\n",
       "0  LAL  29.9986103688254    CRCEO  Benign   \n",
       "1  RMM  29.9986103688254      PCC  Benign   \n",
       "2  LAM  39.9986103688254      PCC  Benign   \n",
       "3  LBL  29.9986103688254    CRCEO  Benign   \n",
       "4  RAM  40.0100466965317      UVA     GS8   \n",
       "\n",
       "                                                 NPS  \\\n",
       "0  [[[[-14.86263123 -15.13942091 -15.87525703 -17...   \n",
       "1  [[[[ 4.287157    4.37941997  4.36411186  4.385...   \n",
       "2  [[[[-2.14134153e+00 -1.76453516e+00 -2.2393942...   \n",
       "3  [[[[ -8.80005274  -9.13136489  -9.39580372  -9...   \n",
       "4  [[[[ 7.8970021   8.34736207  8.16759166  7.951...   \n",
       "\n",
       "                                                  PS   PSA Patient PctCancer  \\\n",
       "0  [[[[52.26004301 52.27143733 52.00259633 51.292...  4.11    0133         0   \n",
       "1  [[[[65.32505693 65.70332014 66.15368739 66.715...   8.6    0218         0   \n",
       "2  [[[[59.55810479 59.70957109 59.46954546 58.942...   5.8    0089         0   \n",
       "3  [[[[46.91796786 46.82674905 46.99327844 47.021...  15.0    0226         0   \n",
       "4  [[[[68.75020247 68.95280843 68.982437   69.060...  5.26    0036        60   \n",
       "\n",
       "  PrimGrade SecGrade        Name  \n",
       "0        []       []  CRCEO_0133  \n",
       "1        []       []    PCC_0218  \n",
       "2        []       []    PCC_0089  \n",
       "3        []       []  CRCEO_0226  \n",
       "4         4        4    UVA_0036  "
      ]
     },
     "execution_count": 25,
     "metadata": {},
     "output_type": "execute_result"
    }
   ],
   "source": [
    "train_df.head()"
   ]
  },
  {
   "cell_type": "code",
   "execution_count": 24,
   "metadata": {},
   "outputs": [
    {
     "data": {
      "text/html": [
       "<div>\n",
       "<style scoped>\n",
       "    .dataframe tbody tr th:only-of-type {\n",
       "        vertical-align: middle;\n",
       "    }\n",
       "\n",
       "    .dataframe tbody tr th {\n",
       "        vertical-align: top;\n",
       "    }\n",
       "\n",
       "    .dataframe thead th {\n",
       "        text-align: right;\n",
       "    }\n",
       "</style>\n",
       "<table border=\"1\" class=\"dataframe\">\n",
       "  <thead>\n",
       "    <tr style=\"text-align: right;\">\n",
       "      <th></th>\n",
       "      <th>Core</th>\n",
       "      <th>Gain</th>\n",
       "      <th>Hospital</th>\n",
       "      <th>Label</th>\n",
       "      <th>NPS</th>\n",
       "      <th>PS</th>\n",
       "      <th>PSA</th>\n",
       "      <th>Patient</th>\n",
       "      <th>PctCancer</th>\n",
       "      <th>PrimGrade</th>\n",
       "      <th>SecGrade</th>\n",
       "      <th>Name</th>\n",
       "    </tr>\n",
       "  </thead>\n",
       "  <tbody>\n",
       "    <tr>\n",
       "      <th>3146</th>\n",
       "      <td>RAL</td>\n",
       "      <td>29.9986103688254</td>\n",
       "      <td>UVA</td>\n",
       "      <td>GS10</td>\n",
       "      <td>[[[[ 0.15156273  0.25964458  0.2033468   0.039...</td>\n",
       "      <td>[[[[60.46670017 60.80089881 61.15622305 61.517...</td>\n",
       "      <td>1.2</td>\n",
       "      <td>0628</td>\n",
       "      <td>100</td>\n",
       "      <td>5</td>\n",
       "      <td>5</td>\n",
       "      <td>UVA_0628</td>\n",
       "    </tr>\n",
       "  </tbody>\n",
       "</table>\n",
       "</div>"
      ],
      "text/plain": [
       "     Core              Gain Hospital Label  \\\n",
       "3146  RAL  29.9986103688254      UVA  GS10   \n",
       "\n",
       "                                                    NPS  \\\n",
       "3146  [[[[ 0.15156273  0.25964458  0.2033468   0.039...   \n",
       "\n",
       "                                                     PS  PSA Patient  \\\n",
       "3146  [[[[60.46670017 60.80089881 61.15622305 61.517...  1.2    0628   \n",
       "\n",
       "     PctCancer PrimGrade SecGrade      Name  \n",
       "3146       100         5        5  UVA_0628  "
      ]
     },
     "execution_count": 24,
     "metadata": {},
     "output_type": "execute_result"
    }
   ],
   "source": [
    "train_df.loc[train_df['Core'] == 'RAL'].loc[train_df['Name'] == 'UVA_0628']"
   ]
  },
  {
   "cell_type": "code",
   "execution_count": 31,
   "metadata": {},
   "outputs": [
    {
     "name": "stdout",
     "output_type": "stream",
     "text": [
      "3 324 129\n"
     ]
    },
    {
     "data": {
      "text/plain": [
       "[<matplotlib.lines.Line2D at 0x12e220f50>]"
      ]
     },
     "execution_count": 31,
     "metadata": {},
     "output_type": "execute_result"
    },
    {
     "data": {
      "image/png": "[encoded data removed]",
      "text/plain": [
       "<Figure size 640x480 with 1 Axes>"
      ]
     },
     "metadata": {},
     "output_type": "display_data"
    },
    {
     "ename": "",
     "evalue": "",
     "output_type": "error",
     "traceback": [
      "\u001b[1;31mThe Kernel crashed while executing code in the current cell or a previous cell. \n",
      "\u001b[1;31mPlease review the code in the cell(s) to identify a possible cause of the failure. \n",
      "\u001b[1;31mClick <a href='https://aka.ms/vscodeJupyterKernelCrash'>here</a> for more info. \n",
      "\u001b[1;31mView Jupyter <a href='command:jupyter.viewOutput'>log</a> for further details."
     ]
    }
   ],
   "source": [
    "print(len(train_df['NPS'][3146][0]), len(train_df['NPS'][3146][0][0]), len(train_df['NPS'][3146][0][0][0]))\n",
    "plt.plot(train_df['PS'][3146][0][0][0])"
   ]
  }
 ],
 "metadata": {
  "language_info": {
   "name": "python"
  }
 },
 "nbformat": 4,
 "nbformat_minor": 2
}
