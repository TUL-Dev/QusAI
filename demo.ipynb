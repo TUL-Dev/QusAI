{
 "cells": [
  {
   "cell_type": "markdown",
   "metadata": {},
   "source": [
    "# IQ Parsing"
   ]
  },
  {
   "cell_type": "code",
   "execution_count": 4,
   "metadata": {},
   "outputs": [],
   "source": [
    "from pathlib import Path\n",
    "import pickle\n",
    "\n",
    "import numpy as np\n",
    "import pandas as pd\n",
    "\n",
    "from scan_table import gen_scan_table\n",
    "from datasets import scan_table_to_df"
   ]
  },
  {
   "cell_type": "code",
   "execution_count": 5,
   "metadata": {},
   "outputs": [],
   "source": [
    "DATA_DIR = Path(\"/Volumes/CREST Data/ExactDataTest\")\n",
    "FRAME = 1"
   ]
  },
  {
   "cell_type": "code",
   "execution_count": 6,
   "metadata": {},
   "outputs": [],
   "source": [
    "table = gen_scan_table(DATA_DIR, FRAME) # (file x focal zone x windows within ROI)"
   ]
  },
  {
   "cell_type": "markdown",
   "metadata": {},
   "source": [
    "# DF Construction"
   ]
  },
  {
   "cell_type": "code",
   "execution_count": 7,
   "metadata": {},
   "outputs": [],
   "source": [
    "df = scan_table_to_df(table)"
   ]
  },
  {
   "cell_type": "code",
   "execution_count": 8,
   "metadata": {},
   "outputs": [
    {
     "data": {
      "text/html": [
       "<div>\n",
       "<style scoped>\n",
       "    .dataframe tbody tr th:only-of-type {\n",
       "        vertical-align: middle;\n",
       "    }\n",
       "\n",
       "    .dataframe tbody tr th {\n",
       "        vertical-align: top;\n",
       "    }\n",
       "\n",
       "    .dataframe thead th {\n",
       "        text-align: right;\n",
       "    }\n",
       "</style>\n",
       "<table border=\"1\" class=\"dataframe\">\n",
       "  <thead>\n",
       "    <tr style=\"text-align: right;\">\n",
       "      <th></th>\n",
       "      <th>Name</th>\n",
       "      <th>Focal Zone</th>\n",
       "      <th>Label</th>\n",
       "      <th>PSA</th>\n",
       "      <th>MBF</th>\n",
       "      <th>SS</th>\n",
       "      <th>SI</th>\n",
       "      <th>NPS</th>\n",
       "      <th>PS</th>\n",
       "      <th>rPS</th>\n",
       "      <th>f</th>\n",
       "      <th>Gain</th>\n",
       "      <th>Depth</th>\n",
       "      <th>Core</th>\n",
       "      <th>Hospital</th>\n",
       "    </tr>\n",
       "  </thead>\n",
       "  <tbody>\n",
       "    <tr>\n",
       "      <th>0</th>\n",
       "      <td>UVA-0548</td>\n",
       "      <td>1</td>\n",
       "      <td>Benign</td>\n",
       "      <td>None</td>\n",
       "      <td>[-16.897804334542386, -13.870872577503214, -1....</td>\n",
       "      <td>[4.0712678253833777e-07, 3.8002251163249574e-0...</td>\n",
       "      <td>[-25.446422980467023, -21.850371024051004, -11...</td>\n",
       "      <td>[[-6.37861449541569, -6.313713920363483, -6.24...</td>\n",
       "      <td>[[217.1249827362704, 217.1946450911736, 217.26...</td>\n",
       "      <td>[[223.5035972316861, 223.5083590115371, 223.51...</td>\n",
       "      <td>[[999877.9147845196, 1004150.8973263338, 10084...</td>\n",
       "      <td>29.99861</td>\n",
       "      <td>30</td>\n",
       "      <td>LBM</td>\n",
       "      <td>UVA</td>\n",
       "    </tr>\n",
       "    <tr>\n",
       "      <th>1</th>\n",
       "      <td>UVA-0548</td>\n",
       "      <td>2</td>\n",
       "      <td>Benign</td>\n",
       "      <td>None</td>\n",
       "      <td>[-16.137453183370063, -12.046576518030417, 0.5...</td>\n",
       "      <td>[4.831136103285653e-07, 5.179874006857419e-07,...</td>\n",
       "      <td>[-26.281600398656344, -22.92298392175899, -11....</td>\n",
       "      <td>[[-3.7230097587179785, -3.7358947837376206, -3...</td>\n",
       "      <td>[[219.6083203081517, 219.6463519246505, 219.68...</td>\n",
       "      <td>[[223.33133006686967, 223.38224670838812, 223....</td>\n",
       "      <td>[[999877.9147845196, 1004150.8973263338, 10084...</td>\n",
       "      <td>29.99861</td>\n",
       "      <td>30</td>\n",
       "      <td>LBM</td>\n",
       "      <td>UVA</td>\n",
       "    </tr>\n",
       "    <tr>\n",
       "      <th>2</th>\n",
       "      <td>UVA-0548</td>\n",
       "      <td>3</td>\n",
       "      <td>Benign</td>\n",
       "      <td>None</td>\n",
       "      <td>[-23.678697659660614, -17.969716088994293, -8....</td>\n",
       "      <td>[2.115191178379438e-07, 1.6307558092851154e-07...</td>\n",
       "      <td>[-28.120056843758764, -21.393885197026854, -13...</td>\n",
       "      <td>[[-12.53071011991608, -12.649088587524318, -12...</td>\n",
       "      <td>[[241.7368480011644, 241.71729906015827, 241.7...</td>\n",
       "      <td>[[254.26755812108047, 254.3663876476826, 254.4...</td>\n",
       "      <td>[[999877.9147845196, 1004150.8973263338, 10084...</td>\n",
       "      <td>29.99861</td>\n",
       "      <td>30</td>\n",
       "      <td>LBM</td>\n",
       "      <td>UVA</td>\n",
       "    </tr>\n",
       "  </tbody>\n",
       "</table>\n",
       "</div>"
      ],
      "text/plain": [
       "       Name  Focal Zone   Label   PSA  \\\n",
       "0  UVA-0548           1  Benign  None   \n",
       "1  UVA-0548           2  Benign  None   \n",
       "2  UVA-0548           3  Benign  None   \n",
       "\n",
       "                                                 MBF  \\\n",
       "0  [-16.897804334542386, -13.870872577503214, -1....   \n",
       "1  [-16.137453183370063, -12.046576518030417, 0.5...   \n",
       "2  [-23.678697659660614, -17.969716088994293, -8....   \n",
       "\n",
       "                                                  SS  \\\n",
       "0  [4.0712678253833777e-07, 3.8002251163249574e-0...   \n",
       "1  [4.831136103285653e-07, 5.179874006857419e-07,...   \n",
       "2  [2.115191178379438e-07, 1.6307558092851154e-07...   \n",
       "\n",
       "                                                  SI  \\\n",
       "0  [-25.446422980467023, -21.850371024051004, -11...   \n",
       "1  [-26.281600398656344, -22.92298392175899, -11....   \n",
       "2  [-28.120056843758764, -21.393885197026854, -13...   \n",
       "\n",
       "                                                 NPS  \\\n",
       "0  [[-6.37861449541569, -6.313713920363483, -6.24...   \n",
       "1  [[-3.7230097587179785, -3.7358947837376206, -3...   \n",
       "2  [[-12.53071011991608, -12.649088587524318, -12...   \n",
       "\n",
       "                                                  PS  \\\n",
       "0  [[217.1249827362704, 217.1946450911736, 217.26...   \n",
       "1  [[219.6083203081517, 219.6463519246505, 219.68...   \n",
       "2  [[241.7368480011644, 241.71729906015827, 241.7...   \n",
       "\n",
       "                                                 rPS  \\\n",
       "0  [[223.5035972316861, 223.5083590115371, 223.51...   \n",
       "1  [[223.33133006686967, 223.38224670838812, 223....   \n",
       "2  [[254.26755812108047, 254.3663876476826, 254.4...   \n",
       "\n",
       "                                                   f      Gain  Depth Core  \\\n",
       "0  [[999877.9147845196, 1004150.8973263338, 10084...  29.99861     30  LBM   \n",
       "1  [[999877.9147845196, 1004150.8973263338, 10084...  29.99861     30  LBM   \n",
       "2  [[999877.9147845196, 1004150.8973263338, 10084...  29.99861     30  LBM   \n",
       "\n",
       "  Hospital  \n",
       "0      UVA  \n",
       "1      UVA  \n",
       "2      UVA  "
      ]
     },
     "execution_count": 8,
     "metadata": {},
     "output_type": "execute_result"
    }
   ],
   "source": [
    "df.head()"
   ]
  },
  {
   "cell_type": "code",
   "execution_count": 9,
   "metadata": {},
   "outputs": [],
   "source": [
    "# Save to .pkl\n",
    "PKL_NAME = Path(\"Outputs\", \"df.pkl\")\n",
    "\n",
    "df.to_pickle(PKL_NAME)"
   ]
  }
 ],
 "metadata": {
  "kernelspec": {
   "display_name": "base",
   "language": "python",
   "name": "python3"
  },
  "language_info": {
   "codemirror_mode": {
    "name": "ipython",
    "version": 3
   },
   "file_extension": ".py",
   "mimetype": "text/x-python",
   "name": "python",
   "nbconvert_exporter": "python",
   "pygments_lexer": "ipython3",
   "version": "3.11.8"
  }
 },
 "nbformat": 4,
 "nbformat_minor": 2
}
